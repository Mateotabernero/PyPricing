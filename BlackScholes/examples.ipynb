{
 "cells": [
  {
   "cell_type": "code",
   "execution_count": 1,
   "id": "8d1df317",
   "metadata": {},
   "outputs": [
    {
     "name": "stdout",
     "output_type": "stream",
     "text": [
      "0.01281944036791366\n"
     ]
    }
   ],
   "source": [
    "import BlackScholes\n",
    "import main"
   ]
  },
  {
   "cell_type": "markdown",
   "id": "39cdcf3e",
   "metadata": {},
   "source": [
    "Here's one example in which we compute the value and greeks of an European call"
   ]
  },
  {
   "cell_type": "code",
   "execution_count": 2,
   "id": "8f7d28a2",
   "metadata": {},
   "outputs": [],
   "source": [
    "r           = 0.06\n",
    "sigma       = 0.3\n",
    "S           = 5\n",
    "K           = 10 \n",
    "T           = 1\n",
    "put_or_call = 'C'"
   ]
  },
  {
   "cell_type": "code",
   "execution_count": 3,
   "id": "bbc2880d",
   "metadata": {},
   "outputs": [],
   "source": [
    "myOption = main.BlackScholesOption(r, sigma, S, K, T, put_or_call)"
   ]
  },
  {
   "cell_type": "code",
   "execution_count": 5,
   "id": "76a56b74",
   "metadata": {},
   "outputs": [
    {
     "name": "stdout",
     "output_type": "stream",
     "text": [
      "Value: 0.01281944036791366\n",
      "Delta: 0.02496923769342213\n",
      "Gamma: 0.0389231791289821\n",
      "Vega: 0.2919238434673657\n",
      "Rho: 0.112026748099197\n",
      "Theta: 0.050510181406056676\n"
     ]
    }
   ],
   "source": [
    "print(\"Value: \" + str(myOption.value()))\n",
    "print(\"Delta: \" + str(myOption.delta()))\n",
    "print(\"Gamma: \" + str(myOption.gamma()))\n",
    "print(\"Vega: \"  + str(myOption.vega()))\n",
    "print(\"Rho: \"   + str(myOption.rho()))\n",
    "print(\"Theta: \" + str(myOption.theta()))"
   ]
  },
  {
   "cell_type": "markdown",
   "id": "24b00984",
   "metadata": {},
   "source": [
    "And the same setting but for an European put"
   ]
  },
  {
   "cell_type": "code",
   "execution_count": 9,
   "id": "a0a1cf53",
   "metadata": {},
   "outputs": [],
   "source": [
    "myOption2 = main.BlackScholesOption(r, sigma, S, K, T, 'P') "
   ]
  },
  {
   "cell_type": "code",
   "execution_count": 10,
   "id": "42a95f8d",
   "metadata": {},
   "outputs": [
    {
     "name": "stdout",
     "output_type": "stream",
     "text": [
      "Value: 4.4304647762104\n",
      "Delta: -0.9750307623065779\n",
      "Gamma: 0.0389231791289821\n",
      "Vega: 0.2919238434673657\n",
      "Rho: -9.30561858774329\n",
      "Theta: -0.5145485387444927\n"
     ]
    }
   ],
   "source": [
    "print(\"Value: \" + str(myOption2.value()))\n",
    "print(\"Delta: \" + str(myOption2.delta()))\n",
    "print(\"Gamma: \" + str(myOption2.gamma()))\n",
    "print(\"Vega: \"  + str(myOption2.vega()))\n",
    "print(\"Rho: \"   + str(myOption2.rho()))\n",
    "print(\"Theta: \" + str(myOption2.theta()))"
   ]
  },
  {
   "cell_type": "code",
   "execution_count": null,
   "id": "fae9ef8f",
   "metadata": {},
   "outputs": [],
   "source": []
  }
 ],
 "metadata": {
  "kernelspec": {
   "display_name": "Python 3 (ipykernel)",
   "language": "python",
   "name": "python3"
  },
  "language_info": {
   "codemirror_mode": {
    "name": "ipython",
    "version": 3
   },
   "file_extension": ".py",
   "mimetype": "text/x-python",
   "name": "python",
   "nbconvert_exporter": "python",
   "pygments_lexer": "ipython3",
   "version": "3.9.13"
  }
 },
 "nbformat": 4,
 "nbformat_minor": 5
}
