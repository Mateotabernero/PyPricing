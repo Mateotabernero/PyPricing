{
 "cells": [
  {
   "cell_type": "code",
   "execution_count": 2,
   "id": "06668408",
   "metadata": {},
   "outputs": [],
   "source": [
    "import BlackScholes\n",
    "import main "
   ]
  },
  {
   "cell_type": "markdown",
   "id": "87b91cf2",
   "metadata": {},
   "source": [
    "One example in which we compute the value and greeks of an European Call "
   ]
  },
  {
   "cell_type": "code",
   "execution_count": 2,
   "id": "e6e1e7f5",
   "metadata": {},
   "outputs": [],
   "source": [
    "myOption = main.BlackScholesOption(5, 10, 1, 'C', 0.06, 0.3)"
   ]
  },
  {
   "cell_type": "code",
   "execution_count": 3,
   "id": "3d8989ac",
   "metadata": {},
   "outputs": [
    {
     "name": "stdout",
     "output_type": "stream",
     "text": [
      "Value: 0.01281944036791366\n",
      "Delta: 0.02496923769342213\n",
      "Gamma: 0.0389231791289821\n",
      "Vega: 0.2919238434673657\n",
      "Rho: 0.112026748099197\n",
      "Theta: 0.050510181406056676\n"
     ]
    }
   ],
   "source": [
    "print(\"Value: \" + str(myOption.value()))\n",
    "print(\"Delta: \" + str(myOption.delta()))\n",
    "print(\"Gamma: \" + str(myOption.gamma()))\n",
    "print(\"Vega: \"  + str(myOption.vega()))\n",
    "print(\"Rho: \"   + str(myOption.rho()))\n",
    "print(\"Theta: \" + str(myOption.theta()))"
   ]
  },
  {
   "cell_type": "markdown",
   "id": "23734521",
   "metadata": {},
   "source": [
    "And the same setting but for an European Put "
   ]
  },
  {
   "cell_type": "code",
   "execution_count": 7,
   "id": "4e16204f",
   "metadata": {},
   "outputs": [],
   "source": [
    "myOption2 = main.BlackScholesOption(5, 10, 1, 'P', 0.06, 0.3)"
   ]
  },
  {
   "cell_type": "code",
   "execution_count": 8,
   "id": "f2c93daf",
   "metadata": {},
   "outputs": [
    {
     "name": "stdout",
     "output_type": "stream",
     "text": [
      "Value: 4.4304647762104\n",
      "Delta: -0.9750307623065779\n",
      "Gamma: 0.0389231791289821\n",
      "Vega: 0.2919238434673657\n",
      "Rho: -9.30561858774329\n",
      "Theta: -0.5145485387444927\n"
     ]
    }
   ],
   "source": [
    "print(\"Value: \" + str(myOption2.value()))\n",
    "print(\"Delta: \" + str(myOption2.delta()))\n",
    "print(\"Gamma: \" + str(myOption2.gamma()))\n",
    "print(\"Vega: \"  + str(myOption2.vega()))\n",
    "print(\"Rho: \"   + str(myOption2.rho()))\n",
    "print(\"Theta: \" + str(myOption2.theta()))"
   ]
  }
 ],
 "metadata": {
  "kernelspec": {
   "display_name": "Python 3 (ipykernel)",
   "language": "python",
   "name": "python3"
  },
  "language_info": {
   "codemirror_mode": {
    "name": "ipython",
    "version": 3
   },
   "file_extension": ".py",
   "mimetype": "text/x-python",
   "name": "python",
   "nbconvert_exporter": "python",
   "pygments_lexer": "ipython3",
   "version": "3.9.13"
  }
 },
 "nbformat": 4,
 "nbformat_minor": 5
}
