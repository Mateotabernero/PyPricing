{
 "cells": [
  {
   "cell_type": "code",
   "execution_count": 4,
   "id": "1b0b3a44",
   "metadata": {},
   "outputs": [],
   "source": [
    "import BlackScholes\n",
    "import main "
   ]
  },
  {
   "cell_type": "markdown",
   "id": "7712ef27",
   "metadata": {},
   "source": [
    "One example in which we compute the value and greeks of an European Call "
   ]
  },
  {
   "cell_type": "code",
   "execution_count": 5,
   "id": "7633c3a5",
   "metadata": {},
   "outputs": [],
   "source": [
    "myOption = main.BlackScholesOption(5, 10, 1, 'C', 0.06, 0.3)"
   ]
  },
  {
   "cell_type": "code",
   "execution_count": 7,
   "id": "851cb298",
   "metadata": {},
   "outputs": [
    {
     "name": "stdout",
     "output_type": "stream",
     "text": [
      "Value: 0.01281944036791366\n",
      "Delta: 0.02496923769342213\n",
      "Gamma: 0.0389231791289821\n",
      "Vega: 0.2919238434673657\n",
      "Rho: 0.112026748099197\n"
     ]
    }
   ],
   "source": [
    "print(\"Value: \" + str(myOption.price()))\n",
    "print(\"Delta: \" + str(myOption.delta()))\n",
    "print(\"Gamma: \" + str(myOption.gamma()))\n",
    "print(\"Vega: \"  + str(myOption.vega()))\n",
    "print(\"Rho: \"   + str(myOption.rho()))"
   ]
  },
  {
   "cell_type": "markdown",
   "id": "0dfbb34b",
   "metadata": {},
   "source": [
    "And the same setting but for an European Put "
   ]
  },
  {
   "cell_type": "code",
   "execution_count": 10,
   "id": "787d26d1",
   "metadata": {},
   "outputs": [],
   "source": [
    "myOption2 = main.BlackScholesOption(5, 10, 1, 'C', 0.06, 0.3)"
   ]
  },
  {
   "cell_type": "code",
   "execution_count": 11,
   "id": "c5f00cfc",
   "metadata": {},
   "outputs": [
    {
     "name": "stdout",
     "output_type": "stream",
     "text": [
      "Value: 0.01281944036791366\n",
      "Delta: 0.02496923769342213\n",
      "Gamma: 0.0389231791289821\n",
      "Vega: 0.2919238434673657\n",
      "Rho: 0.112026748099197\n"
     ]
    }
   ],
   "source": [
    "print(\"Value: \" + str(myOption2.price()))\n",
    "print(\"Delta: \" + str(myOption2.delta()))\n",
    "print(\"Gamma: \" + str(myOption2.gamma()))\n",
    "print(\"Vega: \"  + str(myOption2.vega()))\n",
    "print(\"Rho: \"   + str(myOption2.rho()))"
   ]
  },
  {
   "cell_type": "code",
   "execution_count": null,
   "id": "62e55e89",
   "metadata": {},
   "outputs": [],
   "source": []
  }
 ],
 "metadata": {
  "kernelspec": {
   "display_name": "Python 3 (ipykernel)",
   "language": "python",
   "name": "python3"
  },
  "language_info": {
   "codemirror_mode": {
    "name": "ipython",
    "version": 3
   },
   "file_extension": ".py",
   "mimetype": "text/x-python",
   "name": "python",
   "nbconvert_exporter": "python",
   "pygments_lexer": "ipython3",
   "version": "3.9.13"
  }
 },
 "nbformat": 4,
 "nbformat_minor": 5
}
