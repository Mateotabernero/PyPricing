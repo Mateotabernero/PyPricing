{
 "cells": [
  {
   "cell_type": "markdown",
   "id": "b410b821",
   "metadata": {},
   "source": [
    "This notebooks provides some examples to illustrate how the library works and to check it does so correctly"
   ]
  },
  {
   "cell_type": "code",
   "execution_count": 1,
   "id": "a9e7752e",
   "metadata": {},
   "outputs": [],
   "source": [
    "import main\n",
    "import BinOP \n",
    "import matplotlib.pyplot"
   ]
  },
  {
   "cell_type": "markdown",
   "id": "48a8786a",
   "metadata": {},
   "source": [
    "Other things to include: \n",
    " In this file:\n",
    " - Test edge cases\n",
    " - Graph some convergence things\n",
    " Outside:\n",
    " - Add the posibility to include dividend yields \n",
    " - Add documentation to all the functions (Esto esta noche con música)"
   ]
  },
  {
   "cell_type": "markdown",
   "id": "6b4176c9",
   "metadata": {},
   "source": [
    "# Pricing some options"
   ]
  },
  {
   "cell_type": "markdown",
   "id": "6e06e3c5",
   "metadata": {},
   "source": [
    "Here are some examples of European and American option pricing with Binomial method. The values and greeks from the options have been checked to be correct by using Black-Scholes directly, online calculators or the book \"Tools for Computational Finance\", by Rüdiger U.Seydel."
   ]
  },
  {
   "cell_type": "markdown",
   "id": "34d65bd4",
   "metadata": {},
   "source": [
    "**Example 1: European put**"
   ]
  },
  {
   "cell_type": "code",
   "execution_count": 2,
   "id": "46ecf6f9",
   "metadata": {},
   "outputs": [],
   "source": [
    "myOption = main.BinOption(5, 10, 1,  'E', 'P', 0.06, 0.3, 32)"
   ]
  },
  {
   "cell_type": "code",
   "execution_count": 4,
   "id": "c49b7843",
   "metadata": {
    "scrolled": true
   },
   "outputs": [
    {
     "name": "stdout",
     "output_type": "stream",
     "text": [
      "Value: 4.429855493997058\n",
      "Theta: 0.5190706495468334\n",
      "Delta: -0.9768155086360503\n",
      "Vega: 0.27928207162020136\n"
     ]
    }
   ],
   "source": [
    "print(\"Value: \" + str(myOption.value())) \n",
    "print(\"Theta: \" + str(myOption.theta()))\n",
    "print(\"Delta: \" + str(myOption.delta()))\n",
    "print(\"Vega: \"  + str(myOption.vega()))"
   ]
  },
  {
   "cell_type": "markdown",
   "id": "065bd12a",
   "metadata": {},
   "source": [
    "**Example 2: European call** "
   ]
  },
  {
   "cell_type": "code",
   "execution_count": 38,
   "id": "1532390b",
   "metadata": {},
   "outputs": [],
   "source": [
    "myOption2 = main.BinOption(5, 10, 1,  'E', 'C', 0.06, 0.3, 32)"
   ]
  },
  {
   "cell_type": "code",
   "execution_count": 39,
   "id": "d8bada2c",
   "metadata": {},
   "outputs": [
    {
     "name": "stdout",
     "output_type": "stream",
     "text": [
      "Value: 0.012210158154562879\n",
      "Theta: 0.04704888130289947\n",
      "Delta: 0.023184491363946756\n",
      "Vega:  0.27928207161991975\n"
     ]
    }
   ],
   "source": [
    "print(\"Value: \" + str(myOption2.value()))\n",
    "print(\"Theta: \" + str(myOption2.theta()))\n",
    "print(\"Delta: \" + str(myOption2.delta()))\n",
    "print(\"Vega:  \" + str(myOption2.vega()))"
   ]
  },
  {
   "cell_type": "markdown",
   "id": "3e28d38b",
   "metadata": {},
   "source": [
    "**Example 3: American put**"
   ]
  },
  {
   "cell_type": "code",
   "execution_count": 2,
   "id": "22f93a4f",
   "metadata": {},
   "outputs": [],
   "source": [
    "myOption3 = main.BinOption(50,50,5/12,'A','P', 0.1, 0.4, 32)"
   ]
  },
  {
   "cell_type": "code",
   "execution_count": 3,
   "id": "37907790",
   "metadata": {},
   "outputs": [
    {
     "name": "stdout",
     "output_type": "stream",
     "text": [
      "Value: 4.271911086221126\n",
      "Theta: 4.3095142167604985\n",
      "Delta: -0.41538936915954655\n",
      "Vega: 12.287052935219023\n"
     ]
    }
   ],
   "source": [
    "print(\"Value: \" + str(myOption3.value()))\n",
    "print(\"Theta: \" + str(myOption3.theta()))\n",
    "print(\"Delta: \" + str(myOption3.delta()))\n",
    "print(\"Vega: \"  + str(myOption3.vega()))"
   ]
  },
  {
   "cell_type": "markdown",
   "id": "12b643b1",
   "metadata": {},
   "source": [
    "**Example 4: American call**"
   ]
  },
  {
   "cell_type": "code",
   "execution_count": 36,
   "id": "8ba63fd8",
   "metadata": {},
   "outputs": [],
   "source": [
    "myOption4 = main.BinOption(50,50,5/12,'E', 'P', 0.1, 0.4, 32) "
   ]
  },
  {
   "cell_type": "code",
   "execution_count": 40,
   "id": "11051616",
   "metadata": {},
   "outputs": [
    {
     "name": "stdout",
     "output_type": "stream",
     "text": [
      "Value: 6.0841845149486\n",
      "Theta: 8.549532768868152\n",
      "Delta: 0.6133934210424427\n",
      "Vega: 12.267718988638421\n"
     ]
    }
   ],
   "source": [
    "print(\"Value: \" + str(myOption3.value()))\n",
    "print(\"Theta: \" + str(myOption3.theta()))\n",
    "print(\"Delta: \" + str(myOption3.delta()))\n",
    "print(\"Vega: \"  + str(myOption3.vega()))"
   ]
  }
 ],
 "metadata": {
  "kernelspec": {
   "display_name": "Python 3 (ipykernel)",
   "language": "python",
   "name": "python3"
  },
  "language_info": {
   "codemirror_mode": {
    "name": "ipython",
    "version": 3
   },
   "file_extension": ".py",
   "mimetype": "text/x-python",
   "name": "python",
   "nbconvert_exporter": "python",
   "pygments_lexer": "ipython3",
   "version": "3.9.13"
  }
 },
 "nbformat": 4,
 "nbformat_minor": 5
}
