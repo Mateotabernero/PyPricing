{
 "cells": [
  {
   "cell_type": "code",
   "execution_count": 1,
   "id": "4574a945",
   "metadata": {},
   "outputs": [],
   "source": [
    "import BinOP\n",
    "import main"
   ]
  },
  {
   "cell_type": "markdown",
   "id": "040ea0f8",
   "metadata": {},
   "source": [
    "## Pricing options"
   ]
  },
  {
   "cell_type": "markdown",
   "id": "1596ba36",
   "metadata": {},
   "source": [
    "Here are some examples of European and American option pricing with Binomial method. The values and greeks from the options have been checked to be correct by using Black-Scholes directly, online calculators or the book \"Tools for Computational Finance\", by Rüdiger U.Seydel."
   ]
  },
  {
   "cell_type": "markdown",
   "id": "1e79811b",
   "metadata": {},
   "source": [
    "#### Example 1: European put"
   ]
  },
  {
   "cell_type": "code",
   "execution_count": 2,
   "id": "4db93f84",
   "metadata": {},
   "outputs": [],
   "source": [
    "r           = 0.06\n",
    "sigma       = 0.3\n",
    "S           = 5\n",
    "K           = 10 \n",
    "T           = 1\n",
    "put_or_call = 'P'\n",
    "option_type = 'E'\n",
    "M           = 32"
   ]
  },
  {
   "cell_type": "code",
   "execution_count": 3,
   "id": "0d9b79ca",
   "metadata": {},
   "outputs": [],
   "source": [
    "myOption = main.BinOption(r, sigma, S, K, T, put_or_call, option_type, M)"
   ]
  },
  {
   "cell_type": "code",
   "execution_count": 4,
   "id": "de923c9f",
   "metadata": {},
   "outputs": [
    {
     "name": "stdout",
     "output_type": "stream",
     "text": [
      "Value: 4.429855493997058\n",
      "Theta: -0.5190706495468334\n",
      "Delta: -0.9768155086360503\n",
      "Vega:  0.27928207162020136\n"
     ]
    }
   ],
   "source": [
    "print(\"Value: \" + str(myOption.value()))\n",
    "print(\"Theta: \" + str(myOption.theta()))\n",
    "print(\"Delta: \" + str(myOption.delta()))\n",
    "print(\"Vega:  \" + str(myOption.vega()))"
   ]
  },
  {
   "cell_type": "markdown",
   "id": "e1b8fd7a",
   "metadata": {},
   "source": [
    "#### Example 2: European call "
   ]
  },
  {
   "cell_type": "code",
   "execution_count": 5,
   "id": "9c4f814b",
   "metadata": {},
   "outputs": [],
   "source": [
    "myOption2 = main.BinOption(r, sigma, S, K, T, 'C', option_type, M) "
   ]
  },
  {
   "cell_type": "code",
   "execution_count": 6,
   "id": "5accd83f",
   "metadata": {},
   "outputs": [
    {
     "name": "stdout",
     "output_type": "stream",
     "text": [
      "Value: 0.012210158154562879\n",
      "Theta: 0.04704888130289947\n",
      "Delta: 0.023184491363946756\n",
      "Vega:  0.27928207161991975\n"
     ]
    }
   ],
   "source": [
    "print(\"Value: \" + str(myOption2.value()))\n",
    "print(\"Theta: \" + str(myOption2.theta()))\n",
    "print(\"Delta: \" + str(myOption2.delta()))\n",
    "print(\"Vega:  \" + str(myOption2.vega()))"
   ]
  },
  {
   "cell_type": "markdown",
   "id": "5956e46e",
   "metadata": {},
   "source": [
    "#### Example 3: American put"
   ]
  },
  {
   "cell_type": "code",
   "execution_count": 7,
   "id": "b577ae95",
   "metadata": {},
   "outputs": [],
   "source": [
    "myOption3 = main.BinOption(0.1, 0.4, 50, 50, 5/12, 'P', 'A', 32)"
   ]
  },
  {
   "cell_type": "code",
   "execution_count": 8,
   "id": "2a0897c4",
   "metadata": {},
   "outputs": [
    {
     "name": "stdout",
     "output_type": "stream",
     "text": [
      "Value: 4.271911086221126\n",
      "Theta: 4.3095142167604985\n",
      "Delta: -0.41538936915954655\n",
      "Vega:  12.287052935219023\n"
     ]
    }
   ],
   "source": [
    "print(\"Value: \" + str(myOption3.value()))\n",
    "print(\"Theta: \" + str(myOption3.theta()))\n",
    "print(\"Delta: \" + str(myOption3.delta()))\n",
    "print(\"Vega:  \" + str(myOption3.vega()))"
   ]
  },
  {
   "cell_type": "code",
   "execution_count": null,
   "id": "f4391a17",
   "metadata": {},
   "outputs": [],
   "source": []
  }
 ],
 "metadata": {
  "kernelspec": {
   "display_name": "Python 3 (ipykernel)",
   "language": "python",
   "name": "python3"
  },
  "language_info": {
   "codemirror_mode": {
    "name": "ipython",
    "version": 3
   },
   "file_extension": ".py",
   "mimetype": "text/x-python",
   "name": "python",
   "nbconvert_exporter": "python",
   "pygments_lexer": "ipython3",
   "version": "3.9.13"
  }
 },
 "nbformat": 4,
 "nbformat_minor": 5
}
